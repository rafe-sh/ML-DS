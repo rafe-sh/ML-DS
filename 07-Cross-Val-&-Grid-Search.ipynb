{
 "cells": [
  {
   "cell_type": "markdown",
   "id": "750a85fd",
   "metadata": {},
   "source": [
    "* [Cross Validation](#$$Cross-Validation$$)\n",
    "    * [Prcedure(no validation)](#Train-|-Test-Split-Procedure)\n",
    "    * [Prcedure(with validation)](#Train-|-Validation-|-Test-Split-Procedure)  \n",
    "    \n",
    "    * [Two Methods of Cross Validation](#Two-Methods-of-Cross-Validation)\n",
    "        * [Cross Val Score](#Cross-Validation-with-cross_val_score)\n",
    "        * [Cross Validate](#Cross-Validation-with-cross_validate)\n",
    "\n",
    "* [Grid Search](#Grid-Search)"
   ]
  },
  {
   "cell_type": "markdown",
   "id": "e03cfb24",
   "metadata": {},
   "source": [
    "# $$Cross Validation$$\n",
    "<img src='https://scikit-learn.org/stable/_images/grid_search_workflow.png' width=350 height=150>"
   ]
  },
  {
   "cell_type": "markdown",
   "id": "b3c7b020",
   "metadata": {},
   "source": [
    "Official documentation guide can be found [here](https://scikit-learn.org/stable/modules/cross_validation.html)"
   ]
  },
  {
   "cell_type": "code",
   "execution_count": 1,
   "id": "1873d133",
   "metadata": {},
   "outputs": [],
   "source": [
    "import numpy as np\n",
    "import pandas as pd\n",
    "import matplotlib.pyplot as plt\n",
    "import seaborn as sns"
   ]
  },
  {
   "cell_type": "markdown",
   "id": "bb59a8e1",
   "metadata": {},
   "source": [
    "### Data"
   ]
  },
  {
   "cell_type": "code",
   "execution_count": 2,
   "id": "e80fa03a",
   "metadata": {},
   "outputs": [],
   "source": [
    "df = pd.read_csv('../DATA/Advertising.csv')"
   ]
  },
  {
   "cell_type": "code",
   "execution_count": 3,
   "id": "76a91fbf",
   "metadata": {},
   "outputs": [
    {
     "data": {
      "text/html": [
       "<div>\n",
       "<style scoped>\n",
       "    .dataframe tbody tr th:only-of-type {\n",
       "        vertical-align: middle;\n",
       "    }\n",
       "\n",
       "    .dataframe tbody tr th {\n",
       "        vertical-align: top;\n",
       "    }\n",
       "\n",
       "    .dataframe thead th {\n",
       "        text-align: right;\n",
       "    }\n",
       "</style>\n",
       "<table border=\"1\" class=\"dataframe\">\n",
       "  <thead>\n",
       "    <tr style=\"text-align: right;\">\n",
       "      <th></th>\n",
       "      <th>TV</th>\n",
       "      <th>radio</th>\n",
       "      <th>newspaper</th>\n",
       "      <th>sales</th>\n",
       "    </tr>\n",
       "  </thead>\n",
       "  <tbody>\n",
       "    <tr>\n",
       "      <th>0</th>\n",
       "      <td>230.1</td>\n",
       "      <td>37.8</td>\n",
       "      <td>69.2</td>\n",
       "      <td>22.1</td>\n",
       "    </tr>\n",
       "    <tr>\n",
       "      <th>1</th>\n",
       "      <td>44.5</td>\n",
       "      <td>39.3</td>\n",
       "      <td>45.1</td>\n",
       "      <td>10.4</td>\n",
       "    </tr>\n",
       "    <tr>\n",
       "      <th>2</th>\n",
       "      <td>17.2</td>\n",
       "      <td>45.9</td>\n",
       "      <td>69.3</td>\n",
       "      <td>9.3</td>\n",
       "    </tr>\n",
       "    <tr>\n",
       "      <th>3</th>\n",
       "      <td>151.5</td>\n",
       "      <td>41.3</td>\n",
       "      <td>58.5</td>\n",
       "      <td>18.5</td>\n",
       "    </tr>\n",
       "    <tr>\n",
       "      <th>4</th>\n",
       "      <td>180.8</td>\n",
       "      <td>10.8</td>\n",
       "      <td>58.4</td>\n",
       "      <td>12.9</td>\n",
       "    </tr>\n",
       "  </tbody>\n",
       "</table>\n",
       "</div>"
      ],
      "text/plain": [
       "      TV  radio  newspaper  sales\n",
       "0  230.1   37.8       69.2   22.1\n",
       "1   44.5   39.3       45.1   10.4\n",
       "2   17.2   45.9       69.3    9.3\n",
       "3  151.5   41.3       58.5   18.5\n",
       "4  180.8   10.8       58.4   12.9"
      ]
     },
     "execution_count": 3,
     "metadata": {},
     "output_type": "execute_result"
    }
   ],
   "source": [
    "df.head()"
   ]
  },
  {
   "cell_type": "markdown",
   "id": "7cf2b74f",
   "metadata": {},
   "source": [
    "### Train | Test Split Procedure \n",
    "we must follow these steps for every model that we want to create:\n",
    "\n",
    "0. **Clean** and **adjust** data as necessary for X and y\n",
    "1. **Split Data** in Train/Test for both X and y\n",
    "2. **Fit/Train Scaler** on **Training** X Data\n",
    "3. **Scale X Test** Data\n",
    "4. **Create** Model\n",
    "5. **Fit/Train** Model on **X Train** Data\n",
    "6. **Evaluate** Model on **X Test** Data (by creating predictions and comparing to Y_test)\n",
    "7. **Adjust Parameters** as Necessary and repeat steps 5 and 6\n"
   ]
  },
  {
   "cell_type": "code",
   "execution_count": 4,
   "id": "b53b907e",
   "metadata": {},
   "outputs": [],
   "source": [
    "# step 0 is not needed here \n",
    "\n",
    "# step 1:\n",
    "X = df.drop('sales', axis=1)\n",
    "y = df['sales']"
   ]
  },
  {
   "cell_type": "code",
   "execution_count": 5,
   "id": "a243fb9b",
   "metadata": {},
   "outputs": [],
   "source": [
    "# step 2:\n",
    "from sklearn.model_selection import train_test_split\n",
    "X_train, X_test, y_train, y_test = train_test_split(X, y, test_size=0.3, random_state=101)"
   ]
  },
  {
   "cell_type": "code",
   "execution_count": 6,
   "id": "f4aee1c4",
   "metadata": {},
   "outputs": [],
   "source": [
    "# step 3:\n",
    "from sklearn.preprocessing import StandardScaler\n",
    "scaler = StandardScaler()\n",
    "\n",
    "scaler.fit(X_train)\n",
    "\n",
    "X_train = scaler.transform(X_train)\n",
    "X_test = scaler.transform(X_test)"
   ]
  },
  {
   "cell_type": "code",
   "execution_count": 7,
   "id": "b4951688",
   "metadata": {},
   "outputs": [
    {
     "name": "stdout",
     "output_type": "stream",
     "text": [
      "2.1631741364394363\n",
      "7.341775789034128\n"
     ]
    }
   ],
   "source": [
    "# step 4:\n",
    "from sklearn.linear_model import Ridge\n",
    "model = Ridge(alpha=100)\n",
    "\n",
    "\n",
    "# step 5:\n",
    "model.fit(X_train, y_train)\n",
    "\n",
    "\n",
    "# step 6:\n",
    "y_pred = model.predict(X_test)\n",
    "from sklearn.metrics import mean_absolute_error, mean_squared_error\n",
    "print(mean_absolute_error(y_test, y_pred))\n",
    "print(mean_squared_error(y_test, y_pred))"
   ]
  },
  {
   "cell_type": "code",
   "execution_count": 8,
   "id": "96fc6ee3",
   "metadata": {},
   "outputs": [
    {
     "data": {
      "image/png": "[encoded data removed]",
      "text/plain": [
       "<Figure size 792x288 with 1 Axes>"
      ]
     },
     "metadata": {
      "needs_background": "light"
     },
     "output_type": "display_data"
    }
   ],
   "source": [
    "# step 7:(Adjusting)\n",
    "\n",
    "MAE = []\n",
    "MSE = []\n",
    "\n",
    "for a in [0.1, .5, 1, 10, 100]:\n",
    "    model = Ridge(alpha=a)\n",
    "    # step 5:\n",
    "    model.fit(X_train, y_train)\n",
    "    # step 6:\n",
    "    y_pred = model.predict(X_test)\n",
    "    MAE.append(mean_absolute_error(y_test, y_pred))\n",
    "    MSE.append(mean_squared_error(y_test, y_pred))\n",
    "\n",
    "    \n",
    "plt.figure(figsize=(11,4))    \n",
    "plt.plot([0.1, .5, 1, 10, 100], MAE, '--o', label='MAE')\n",
    "\n",
    "for a,b in zip([0.1, .5, 1, 10, 100], MAE): \n",
    "    plt.text(a, b+0.1, str(round(b,1)))\n",
    "    \n",
    "plt.plot([0.1, .5, 1, 10, 100], MSE, '--o', label='MSE')\n",
    "\n",
    "for a,b in zip([0.1, .5, 1, 10, 100], MSE): \n",
    "    plt.text(a, b+0.1, str(round(b,1)))\n",
    "\n",
    "plt.xscale('log')\n",
    "plt.legend();"
   ]
  },
  {
   "cell_type": "markdown",
   "id": "767c19ab",
   "metadata": {},
   "source": [
    "***Final Evaluation***"
   ]
  },
  {
   "cell_type": "code",
   "execution_count": 9,
   "id": "6470b3fd",
   "metadata": {},
   "outputs": [
    {
     "name": "stdout",
     "output_type": "stream",
     "text": [
      "MAE: 1.217\n",
      "MSE: 2.319\n"
     ]
    }
   ],
   "source": [
    "model = Ridge(alpha=1)\n",
    "model.fit(X_train, y_train)\n",
    "y_pred = model.predict(X_test)\n",
    "print('MAE:',round(mean_absolute_error(y_test, y_pred),3))\n",
    "print('MSE:',round(mean_squared_error(y_test, y_pred),3))"
   ]
  },
  {
   "cell_type": "markdown",
   "id": "b8762557",
   "metadata": {},
   "source": [
    "**Note**: We previously showed RidgeCV can do this for us, but the purpose of this notebook is to generalize the CV process for any model\n",
    "\n",
    "---\n",
    "---"
   ]
  },
  {
   "cell_type": "markdown",
   "id": "8737d1e6",
   "metadata": {},
   "source": [
    "### Train | Validation | Test Split Procedure\n"
   ]
  },
  {
   "cell_type": "markdown",
   "id": "cb453cc3",
   "metadata": {},
   "source": [
    "This is often also called a \"hold-out\" set, since you should not adjust parameters based on the final test set, but instead use it *only* for reporting final expected performance.\n",
    "\n",
    "0. **Clean** and **adjust** data as necessary for X and y\n",
    "1. **Split Data** in **Train/Validation/Test** for both X and y\n",
    "2. **Fit/Train** Scaler on **Training** X Data\n",
    "3. **Scale X Eval** Data\n",
    "4. **Create** Model\n",
    "5. **Fit/Train** Model on X Train Data\n",
    "6. **Evaluate Model** on X **Evaluation** Data (by creating predictions and comparing to Y_eval)\n",
    "7. **Adjust Parameters** as Necessary and repeat steps 5 and 6\n",
    "8. Get **final metrics** on **Test set** (not allowed to go back and adjust after this!)"
   ]
  },
  {
   "cell_type": "code",
   "execution_count": 10,
   "id": "58b0b428",
   "metadata": {},
   "outputs": [],
   "source": [
    "# step 0 is not needed here \n",
    "\n",
    "# step 1:\n",
    "X = df.drop('sales', axis=1)\n",
    "y = df['sales']"
   ]
  },
  {
   "cell_type": "code",
   "execution_count": 11,
   "id": "9e31439e",
   "metadata": {},
   "outputs": [],
   "source": [
    "# step 2:\n",
    "#####################################################################\n",
    "#### SPLIT TWICE! Here we create TRAIN | VALIDATION | TEST  #########\n",
    "#####################################################################\n",
    "\n",
    "# 70% of data is training data, set aside other 30%\n",
    "from sklearn.model_selection import train_test_split\n",
    "X_train, X_other, y_train, y_other = train_test_split(X, y, test_size=0.3, random_state=101)\n",
    "\n",
    "# Remaining 30% is split into evaluation and test sets\n",
    "# Each is 15% of the original data size\n",
    "X_eval, X_test, y_eval, y_test = train_test_split(X_other, y_other, test_size=0.5, random_state=101)"
   ]
  },
  {
   "cell_type": "code",
   "execution_count": 12,
   "id": "4b84917b",
   "metadata": {},
   "outputs": [],
   "source": [
    "# step 3:\n",
    "from sklearn.preprocessing import StandardScaler\n",
    "scaler = StandardScaler()\n",
    "\n",
    "scaler.fit(X_train)\n",
    "\n",
    "X_train = scaler.transform(X_train)\n",
    "X_eval = scaler.transform(X_eval)\n",
    "X_test = scaler.transform(X_test)"
   ]
  },
  {
   "cell_type": "code",
   "execution_count": 13,
   "id": "4d6ec6ff",
   "metadata": {},
   "outputs": [
    {
     "name": "stdout",
     "output_type": "stream",
     "text": [
      "2.175424374439987\n",
      "7.320101458823869\n"
     ]
    }
   ],
   "source": [
    "# step 4:\n",
    "from sklearn.linear_model import Ridge\n",
    "model = Ridge(alpha=100)\n",
    "\n",
    "\n",
    "# step 5:\n",
    "model.fit(X_train, y_train)\n",
    "\n",
    "\n",
    "# step 6:\n",
    "y_pred = model.predict(X_eval)\n",
    "from sklearn.metrics import mean_absolute_error, mean_squared_error\n",
    "print(mean_absolute_error(y_eval, y_pred))\n",
    "print(mean_squared_error(y_eval, y_pred))"
   ]
  },
  {
   "cell_type": "code",
   "execution_count": 14,
   "id": "b15a8c3a",
   "metadata": {},
   "outputs": [
    {
     "data": {
      "image/png": "[encoded data removed]",
      "text/plain": [
       "<Figure size 792x288 with 1 Axes>"
      ]
     },
     "metadata": {
      "needs_background": "light"
     },
     "output_type": "display_data"
    }
   ],
   "source": [
    "# step 7:(Adjusting)\n",
    "\n",
    "MAE = []\n",
    "MSE = []\n",
    "\n",
    "for a in [0.1, .5, 1, 10, 100]:\n",
    "    model = Ridge(alpha=a)\n",
    "    # step 5:\n",
    "    model.fit(X_train, y_train)\n",
    "    # step 6:\n",
    "    y_pred = model.predict(X_eval)\n",
    "    MAE.append(mean_absolute_error(y_eval, y_pred))\n",
    "    MSE.append(mean_squared_error(y_eval, y_pred))\n",
    "\n",
    "    \n",
    "plt.figure(figsize=(11,4))    \n",
    "plt.plot([0.1, .5, 1, 10, 100], MAE, '--o', label='MAE')\n",
    "\n",
    "for a,b in zip([0.1, .5, 1, 10, 100], MAE): \n",
    "    plt.text(a, b+0.1, str(round(b,1)))\n",
    "    \n",
    "plt.plot([0.1, .5, 1, 10, 100], MSE, '--o', label='MSE')\n",
    "\n",
    "for a,b in zip([0.1, .5, 1, 10, 100], MSE): \n",
    "    plt.text(a, b+0.1, str(round(b,1)))\n",
    "\n",
    "plt.xscale('log')\n",
    "plt.legend();"
   ]
  },
  {
   "cell_type": "markdown",
   "id": "627dff29",
   "metadata": {},
   "source": [
    "**Final Eval:**(No test data leakage or bias)"
   ]
  },
  {
   "cell_type": "code",
   "execution_count": 15,
   "id": "bd703bd0",
   "metadata": {},
   "outputs": [
    {
     "name": "stdout",
     "output_type": "stream",
     "text": [
      "MAE: 1.239\n",
      "MSE: 2.254\n"
     ]
    }
   ],
   "source": [
    "model = Ridge(alpha=1)\n",
    "model.fit(X_train, y_train)\n",
    "y_pred = model.predict(X_test)\n",
    "print('MAE:',round(mean_absolute_error(y_test, y_pred),3))\n",
    "print('MSE:',round(mean_squared_error(y_test, y_pred),3))"
   ]
  },
  {
   "cell_type": "markdown",
   "id": "374d5fc2",
   "metadata": {},
   "source": [
    "---\n",
    "---\n",
    "---"
   ]
  },
  {
   "cell_type": "markdown",
   "id": "533f5e1e",
   "metadata": {},
   "source": [
    "# Two Methods of Cross Validation"
   ]
  },
  {
   "cell_type": "markdown",
   "id": "ea29a4eb",
   "metadata": {},
   "source": [
    "<img src='https://scikit-learn.org/stable/_images/grid_search_cross_validation.png' width=400 height=200>"
   ]
  },
  {
   "cell_type": "markdown",
   "id": "d5830067",
   "metadata": {},
   "source": [
    "## Cross Validation with `cross_val_score`\n",
    "---"
   ]
  },
  {
   "cell_type": "code",
   "execution_count": 16,
   "id": "aea47e56",
   "metadata": {},
   "outputs": [],
   "source": [
    "X_train, X_test, y_train, y_test = train_test_split(X, y, test_size=0.3, random_state=101)\n",
    "\n",
    "scaler = StandardScaler()\n",
    "scaler.fit(X_train)\n",
    "X_train = scaler.transform(X_train)\n",
    "X_test = scaler.transform(X_test)"
   ]
  },
  {
   "cell_type": "code",
   "execution_count": 17,
   "id": "dd6f9dc8",
   "metadata": {},
   "outputs": [],
   "source": [
    "model = Ridge(alpha=100)"
   ]
  },
  {
   "cell_type": "code",
   "execution_count": 18,
   "id": "5c5caf9e",
   "metadata": {},
   "outputs": [
    {
     "data": {
      "text/plain": [
       "array([ -9.32552967,  -4.9449624 , -11.39665242,  -7.0242106 ,\n",
       "        -8.38562723])"
      ]
     },
     "execution_count": 18,
     "metadata": {},
     "output_type": "execute_result"
    }
   ],
   "source": [
    "from sklearn.model_selection import cross_val_score\n",
    "scores = cross_val_score(estimator=model, X=X_train, y=y_train, scoring='neg_mean_squared_error', cv=5)\n",
    "\n",
    "### for scoring check this link:\n",
    "# https://scikit-learn.org/stable/modules/model_evaluation.html\n",
    "\n",
    "scores"
   ]
  },
  {
   "cell_type": "code",
   "execution_count": 19,
   "id": "d0638b8d",
   "metadata": {},
   "outputs": [
    {
     "data": {
      "text/plain": [
       "8.215396464543607"
      ]
     },
     "execution_count": 19,
     "metadata": {},
     "output_type": "execute_result"
    }
   ],
   "source": [
    "abs(scores.mean())"
   ]
  },
  {
   "cell_type": "code",
   "execution_count": 20,
   "id": "9bbcccaa",
   "metadata": {},
   "outputs": [
    {
     "data": {
      "image/png": "[encoded data removed]",
      "text/plain": [
       "<Figure size 792x288 with 1 Axes>"
      ]
     },
     "metadata": {
      "needs_background": "light"
     },
     "output_type": "display_data"
    }
   ],
   "source": [
    "# Adjusting Model\n",
    "\n",
    "MSE = []\n",
    "for a in [0.1, .5, 1, 10, 100]:\n",
    "    model = Ridge(alpha=a)\n",
    "\n",
    "    scores = cross_val_score(estimator=model, X=X_train, y=y_train, scoring='neg_mean_squared_error', cv=5)\n",
    "\n",
    "    MSE.append(abs(scores.mean()))\n",
    "    \n",
    "plt.figure(figsize=(11,4))   \n",
    "plt.plot([0.1, .5, 1, 10, 100], MSE, '--o')\n",
    "\n",
    "for a,b in zip([0.1, .5, 1, 10, 100], MSE): \n",
    "    plt.text(a, b+0.1, str(round(b,1)))\n",
    "\n",
    "plt.xscale('log');"
   ]
  },
  {
   "cell_type": "code",
   "execution_count": 21,
   "id": "d44e0764",
   "metadata": {},
   "outputs": [
    {
     "data": {
      "text/plain": [
       "3.344839296530695"
      ]
     },
     "execution_count": 21,
     "metadata": {},
     "output_type": "execute_result"
    }
   ],
   "source": [
    "model = Ridge(alpha=1)\n",
    "scores = cross_val_score(estimator=model, X=X_train, y=y_train, scoring='neg_mean_squared_error', cv=5)\n",
    "abs(scores.mean())"
   ]
  },
  {
   "cell_type": "markdown",
   "id": "28e63d63",
   "metadata": {},
   "source": [
    "**Final Eval:**"
   ]
  },
  {
   "cell_type": "code",
   "execution_count": 22,
   "id": "da39a5ee",
   "metadata": {},
   "outputs": [
    {
     "data": {
      "text/plain": [
       "2.3190215794287514"
      ]
     },
     "execution_count": 22,
     "metadata": {},
     "output_type": "execute_result"
    }
   ],
   "source": [
    "model.fit(X_train, y_train)\n",
    "y_pred = model.predict(X_test)\n",
    "mean_squared_error(y_test, y_pred)"
   ]
  },
  {
   "cell_type": "markdown",
   "id": "5d7276f6",
   "metadata": {},
   "source": [
    "---\n",
    "---"
   ]
  },
  {
   "cell_type": "markdown",
   "id": "87e159b8",
   "metadata": {},
   "source": [
    "## Cross Validation with `cross_validate`\n",
    "---"
   ]
  },
  {
   "cell_type": "markdown",
   "id": "277b7f31",
   "metadata": {},
   "source": [
    "The cross_validate function differs from cross_val_score in two ways:\n",
    "\n",
    "   * It allows specifying **multiple metrics** for evaluation.\n",
    "\n",
    "   * It returns a **dict** containing fit-times, score-times (and optionally training scores as well as fitted estimators) in addition to the test score.\n",
    "\n",
    "For single metric evaluation, where the scoring parameter is a string, callable or None, the keys will be - `['test_score', 'fit_time', 'score_time']`\n",
    "\n",
    "And for multiple metric evaluation, the return value is a dict with the following keys - `['test_<scorer1_name>', 'test_<scorer2_name>', 'test_<scorer...>', 'fit_time', 'score_time']`\n",
    "\n",
    "`return_train_score` is set to `False` by default to save computation time. To evaluate the scores on the training set as well you need to set it to `True`."
   ]
  },
  {
   "cell_type": "code",
   "execution_count": 23,
   "id": "304f691f",
   "metadata": {},
   "outputs": [],
   "source": [
    "X_train, X_test, y_train, y_test = train_test_split(X, y, test_size=0.3, random_state=101)\n",
    "\n",
    "scaler = StandardScaler()\n",
    "scaler.fit(X_train)\n",
    "X_train = scaler.transform(X_train)\n",
    "X_test = scaler.transform(X_test)"
   ]
  },
  {
   "cell_type": "code",
   "execution_count": 24,
   "id": "e370bcd2",
   "metadata": {},
   "outputs": [],
   "source": [
    "model = Ridge(alpha=100)"
   ]
  },
  {
   "cell_type": "code",
   "execution_count": 25,
   "id": "6d2a0741",
   "metadata": {},
   "outputs": [
    {
     "data": {
      "text/plain": [
       "{'fit_time': array([0.00199556, 0.00099611, 0.00102997, 0.00099874, 0.00199533]),\n",
       " 'score_time': array([0.00099778, 0.00099635, 0.        , 0.00096345, 0.        ]),\n",
       " 'test_neg_mean_absolute_error': array([-2.31243044, -1.74653361, -2.56211701, -2.01873159, -2.27951906]),\n",
       " 'test_neg_mean_squared_error': array([ -9.32552967,  -4.9449624 , -11.39665242,  -7.0242106 ,\n",
       "         -8.38562723])}"
      ]
     },
     "execution_count": 25,
     "metadata": {},
     "output_type": "execute_result"
    }
   ],
   "source": [
    "from sklearn.model_selection import cross_validate\n",
    "\n",
    "scores = cross_validate(estimator=model,X=X_train, y=y_train, cv=5,\n",
    "                        scoring=['neg_mean_absolute_error', 'neg_mean_squared_error'])\n",
    "scores"
   ]
  },
  {
   "cell_type": "code",
   "execution_count": 26,
   "id": "e4cea309",
   "metadata": {},
   "outputs": [
    {
     "data": {
      "text/html": [
       "<div>\n",
       "<style scoped>\n",
       "    .dataframe tbody tr th:only-of-type {\n",
       "        vertical-align: middle;\n",
       "    }\n",
       "\n",
       "    .dataframe tbody tr th {\n",
       "        vertical-align: top;\n",
       "    }\n",
       "\n",
       "    .dataframe thead th {\n",
       "        text-align: right;\n",
       "    }\n",
       "</style>\n",
       "<table border=\"1\" class=\"dataframe\">\n",
       "  <thead>\n",
       "    <tr style=\"text-align: right;\">\n",
       "      <th></th>\n",
       "      <th>fit_time</th>\n",
       "      <th>score_time</th>\n",
       "      <th>test_neg_mean_absolute_error</th>\n",
       "      <th>test_neg_mean_squared_error</th>\n",
       "    </tr>\n",
       "  </thead>\n",
       "  <tbody>\n",
       "    <tr>\n",
       "      <th>0</th>\n",
       "      <td>0.001996</td>\n",
       "      <td>0.000998</td>\n",
       "      <td>-2.312430</td>\n",
       "      <td>-9.325530</td>\n",
       "    </tr>\n",
       "    <tr>\n",
       "      <th>1</th>\n",
       "      <td>0.000996</td>\n",
       "      <td>0.000996</td>\n",
       "      <td>-1.746534</td>\n",
       "      <td>-4.944962</td>\n",
       "    </tr>\n",
       "    <tr>\n",
       "      <th>2</th>\n",
       "      <td>0.001030</td>\n",
       "      <td>0.000000</td>\n",
       "      <td>-2.562117</td>\n",
       "      <td>-11.396652</td>\n",
       "    </tr>\n",
       "    <tr>\n",
       "      <th>3</th>\n",
       "      <td>0.000999</td>\n",
       "      <td>0.000963</td>\n",
       "      <td>-2.018732</td>\n",
       "      <td>-7.024211</td>\n",
       "    </tr>\n",
       "    <tr>\n",
       "      <th>4</th>\n",
       "      <td>0.001995</td>\n",
       "      <td>0.000000</td>\n",
       "      <td>-2.279519</td>\n",
       "      <td>-8.385627</td>\n",
       "    </tr>\n",
       "  </tbody>\n",
       "</table>\n",
       "</div>"
      ],
      "text/plain": [
       "   fit_time  score_time  test_neg_mean_absolute_error  \\\n",
       "0  0.001996    0.000998                     -2.312430   \n",
       "1  0.000996    0.000996                     -1.746534   \n",
       "2  0.001030    0.000000                     -2.562117   \n",
       "3  0.000999    0.000963                     -2.018732   \n",
       "4  0.001995    0.000000                     -2.279519   \n",
       "\n",
       "   test_neg_mean_squared_error  \n",
       "0                    -9.325530  \n",
       "1                    -4.944962  \n",
       "2                   -11.396652  \n",
       "3                    -7.024211  \n",
       "4                    -8.385627  "
      ]
     },
     "execution_count": 26,
     "metadata": {},
     "output_type": "execute_result"
    }
   ],
   "source": [
    "pd.DataFrame(scores)"
   ]
  },
  {
   "cell_type": "code",
   "execution_count": 27,
   "id": "e7c423b7",
   "metadata": {},
   "outputs": [
    {
     "data": {
      "text/plain": [
       "fit_time                        0.001403\n",
       "score_time                      0.000592\n",
       "test_neg_mean_absolute_error   -2.183866\n",
       "test_neg_mean_squared_error    -8.215396\n",
       "dtype: float64"
      ]
     },
     "execution_count": 27,
     "metadata": {},
     "output_type": "execute_result"
    }
   ],
   "source": [
    "pd.DataFrame(scores).mean()"
   ]
  },
  {
   "cell_type": "code",
   "execution_count": 28,
   "id": "5bab3421",
   "metadata": {},
   "outputs": [
    {
     "data": {
      "image/png": "[encoded data removed]",
      "text/plain": [
       "<Figure size 792x288 with 1 Axes>"
      ]
     },
     "metadata": {
      "needs_background": "light"
     },
     "output_type": "display_data"
    }
   ],
   "source": [
    "# Adjusting Model\n",
    "\n",
    "MSE = []\n",
    "MAE = []\n",
    "for a in [0.1, .5, 1, 10, 100]:\n",
    "    model = Ridge(alpha=a)\n",
    "\n",
    "    scores = cross_validate(estimator=model,X=X_train, y=y_train, cv=5,\n",
    "                            scoring=['neg_mean_absolute_error', 'neg_mean_squared_error'])\n",
    "\n",
    "    MAE.append(abs(pd.DataFrame(scores).mean()['test_neg_mean_absolute_error']))\n",
    "    MSE.append(abs(pd.DataFrame(scores).mean()['test_neg_mean_squared_error']))\n",
    "    \n",
    "plt.figure(figsize=(11,4))\n",
    "plt.plot([0.1, .5, 1, 10, 100], MAE, '--o')\n",
    "plt.plot([0.1, .5, 1, 10, 100], MSE, '--o')\n",
    "\n",
    "for a,b in zip([0.1, .5, 1, 10, 100], MSE): \n",
    "    plt.text(a, b+0.1, str(round(b,1)))\n",
    "for a,b in zip([0.1, .5, 1, 10, 100], MAE): \n",
    "    plt.text(a, b+0.1, str(round(b,1)))\n",
    "\n",
    "plt.xscale('log');"
   ]
  },
  {
   "cell_type": "markdown",
   "id": "3a138394",
   "metadata": {},
   "source": [
    "**Final Evaluation**"
   ]
  },
  {
   "cell_type": "code",
   "execution_count": 29,
   "id": "a4dbf6a4",
   "metadata": {},
   "outputs": [
    {
     "data": {
      "text/plain": [
       "2.3190215794287514"
      ]
     },
     "execution_count": 29,
     "metadata": {},
     "output_type": "execute_result"
    }
   ],
   "source": [
    "model = Ridge(alpha=1)\n",
    "model.fit(X_train, y_train)\n",
    "y_pred = model.predict(X_test)\n",
    "mean_squared_error(y_test, y_pred)"
   ]
  },
  {
   "cell_type": "markdown",
   "id": "ff3b92b5",
   "metadata": {},
   "source": [
    "---\n",
    "---\n",
    "---\n",
    "\n",
    "$$ ________________cross validation________________ $$\n"
   ]
  },
  {
   "cell_type": "markdown",
   "id": "86bb61b5",
   "metadata": {},
   "source": [
    "# Grid Search \n",
    "---"
   ]
  },
  {
   "cell_type": "markdown",
   "id": "66e76ac6",
   "metadata": {},
   "source": [
    "Grid search, in my opinion is the best way for finding the best hyperparameters because it will go through all combinations of parameters that you want.\n",
    "\n",
    "A search consists of:\n",
    "\n",
    "* an estimator (regressor or classifier such as sklearn.svm.SVC());\n",
    "* a parameter space;\n",
    "* a method for searching or sampling candidates;\n",
    "* a cross-validation scheme \n",
    "* a score function."
   ]
  },
  {
   "cell_type": "code",
   "execution_count": 30,
   "id": "d3e53456",
   "metadata": {},
   "outputs": [],
   "source": [
    "X_train, X_test, y_train, y_test = train_test_split(X, y, test_size=0.3, random_state=101)\n",
    "\n",
    "scaler = StandardScaler()\n",
    "scaler.fit(X_train)\n",
    "X_train = scaler.transform(X_train)\n",
    "X_test = scaler.transform(X_test)"
   ]
  },
  {
   "cell_type": "code",
   "execution_count": 31,
   "id": "d26749d9",
   "metadata": {},
   "outputs": [],
   "source": [
    "from sklearn.linear_model import ElasticNet\n",
    "\n",
    "model = ElasticNet()"
   ]
  },
  {
   "cell_type": "code",
   "execution_count": 32,
   "id": "647bc993",
   "metadata": {},
   "outputs": [],
   "source": [
    "param_grid = {\n",
    "    'alpha': [0.1, 0.5, 0.9, 1, 10, 100],\n",
    "    'l1_ratio':[0.1, 0.3, 0.5, 0.7, 0.9, 1] \n",
    "}\n",
    "\n",
    "from sklearn.model_selection import GridSearchCV\n",
    "\n",
    "grid_model = GridSearchCV(estimator=model, param_grid=param_grid,\n",
    "                          scoring=['neg_mean_absolute_error', 'neg_mean_squared_error'],\n",
    "                          cv=5, \n",
    "                          verbose=1, # it just explains more when is higher\n",
    "                          refit='neg_mean_squared_error'  # to find the best params of this metric when having multiple metrics\n",
    "                         )"
   ]
  },
  {
   "cell_type": "code",
   "execution_count": 33,
   "id": "963b77b4",
   "metadata": {},
   "outputs": [
    {
     "name": "stdout",
     "output_type": "stream",
     "text": [
      "Fitting 5 folds for each of 36 candidates, totalling 180 fits\n"
     ]
    },
    {
     "data": {
      "text/plain": [
       "GridSearchCV(cv=5, estimator=ElasticNet(),\n",
       "             param_grid={'alpha': [0.1, 0.5, 0.9, 1, 10, 100],\n",
       "                         'l1_ratio': [0.1, 0.3, 0.5, 0.7, 0.9, 1]},\n",
       "             refit='neg_mean_squared_error',\n",
       "             scoring=['neg_mean_absolute_error', 'neg_mean_squared_error'],\n",
       "             verbose=1)"
      ]
     },
     "execution_count": 33,
     "metadata": {},
     "output_type": "execute_result"
    }
   ],
   "source": [
    "grid_model.fit(X_train, y_train)"
   ]
  },
  {
   "cell_type": "code",
   "execution_count": 34,
   "id": "759e76eb",
   "metadata": {},
   "outputs": [
    {
     "name": "stdout",
     "output_type": "stream",
     "text": [
      "ElasticNet(alpha=0.1, l1_ratio=1) \n",
      " {'alpha': 0.1, 'l1_ratio': 1} \n",
      " -3.2927601581001076\n"
     ]
    }
   ],
   "source": [
    "print(grid_model.best_estimator_,'\\n',\n",
    "     grid_model.best_params_,'\\n',\n",
    "     grid_model.best_score_)"
   ]
  },
  {
   "cell_type": "code",
   "execution_count": 35,
   "id": "ffda5e5a",
   "metadata": {
    "scrolled": false
   },
   "outputs": [
    {
     "data": {
      "text/html": [
       "<div>\n",
       "<style scoped>\n",
       "    .dataframe tbody tr th:only-of-type {\n",
       "        vertical-align: middle;\n",
       "    }\n",
       "\n",
       "    .dataframe tbody tr th {\n",
       "        vertical-align: top;\n",
       "    }\n",
       "\n",
       "    .dataframe thead th {\n",
       "        text-align: right;\n",
       "    }\n",
       "</style>\n",
       "<table border=\"1\" class=\"dataframe\">\n",
       "  <thead>\n",
       "    <tr style=\"text-align: right;\">\n",
       "      <th></th>\n",
       "      <th>mean_fit_time</th>\n",
       "      <th>std_fit_time</th>\n",
       "      <th>mean_score_time</th>\n",
       "      <th>std_score_time</th>\n",
       "      <th>param_alpha</th>\n",
       "      <th>param_l1_ratio</th>\n",
       "      <th>params</th>\n",
       "      <th>split0_test_neg_mean_absolute_error</th>\n",
       "      <th>split1_test_neg_mean_absolute_error</th>\n",
       "      <th>split2_test_neg_mean_absolute_error</th>\n",
       "      <th>...</th>\n",
       "      <th>std_test_neg_mean_absolute_error</th>\n",
       "      <th>rank_test_neg_mean_absolute_error</th>\n",
       "      <th>split0_test_neg_mean_squared_error</th>\n",
       "      <th>split1_test_neg_mean_squared_error</th>\n",
       "      <th>split2_test_neg_mean_squared_error</th>\n",
       "      <th>split3_test_neg_mean_squared_error</th>\n",
       "      <th>split4_test_neg_mean_squared_error</th>\n",
       "      <th>mean_test_neg_mean_squared_error</th>\n",
       "      <th>std_test_neg_mean_squared_error</th>\n",
       "      <th>rank_test_neg_mean_squared_error</th>\n",
       "    </tr>\n",
       "  </thead>\n",
       "  <tbody>\n",
       "    <tr>\n",
       "      <th>0</th>\n",
       "      <td>0.002168</td>\n",
       "      <td>0.000461</td>\n",
       "      <td>0.001060</td>\n",
       "      <td>0.000547</td>\n",
       "      <td>0.1</td>\n",
       "      <td>0.1</td>\n",
       "      <td>{'alpha': 0.1, 'l1_ratio': 0.1}</td>\n",
       "      <td>-1.560429</td>\n",
       "      <td>-1.024838</td>\n",
       "      <td>-1.521026</td>\n",
       "      <td>...</td>\n",
       "      <td>0.241766</td>\n",
       "      <td>6</td>\n",
       "      <td>-3.453021</td>\n",
       "      <td>-1.405190</td>\n",
       "      <td>-5.789125</td>\n",
       "      <td>-2.187302</td>\n",
       "      <td>-4.645576</td>\n",
       "      <td>-3.496043</td>\n",
       "      <td>1.591601</td>\n",
       "      <td>6</td>\n",
       "    </tr>\n",
       "    <tr>\n",
       "      <th>1</th>\n",
       "      <td>0.002068</td>\n",
       "      <td>0.000141</td>\n",
       "      <td>0.001373</td>\n",
       "      <td>0.000371</td>\n",
       "      <td>0.1</td>\n",
       "      <td>0.3</td>\n",
       "      <td>{'alpha': 0.1, 'l1_ratio': 0.3}</td>\n",
       "      <td>-1.558314</td>\n",
       "      <td>-1.023941</td>\n",
       "      <td>-1.497815</td>\n",
       "      <td>...</td>\n",
       "      <td>0.233453</td>\n",
       "      <td>5</td>\n",
       "      <td>-3.386789</td>\n",
       "      <td>-1.419619</td>\n",
       "      <td>-5.691296</td>\n",
       "      <td>-2.170784</td>\n",
       "      <td>-4.548123</td>\n",
       "      <td>-3.443322</td>\n",
       "      <td>1.548670</td>\n",
       "      <td>5</td>\n",
       "    </tr>\n",
       "    <tr>\n",
       "      <th>2</th>\n",
       "      <td>0.001412</td>\n",
       "      <td>0.000510</td>\n",
       "      <td>0.001067</td>\n",
       "      <td>0.000508</td>\n",
       "      <td>0.1</td>\n",
       "      <td>0.5</td>\n",
       "      <td>{'alpha': 0.1, 'l1_ratio': 0.5}</td>\n",
       "      <td>-1.555920</td>\n",
       "      <td>-1.023903</td>\n",
       "      <td>-1.475724</td>\n",
       "      <td>...</td>\n",
       "      <td>0.223621</td>\n",
       "      <td>4</td>\n",
       "      <td>-3.325440</td>\n",
       "      <td>-1.427522</td>\n",
       "      <td>-5.595610</td>\n",
       "      <td>-2.163089</td>\n",
       "      <td>-4.451679</td>\n",
       "      <td>-3.392668</td>\n",
       "      <td>1.506827</td>\n",
       "      <td>4</td>\n",
       "    </tr>\n",
       "  </tbody>\n",
       "</table>\n",
       "<p>3 rows × 23 columns</p>\n",
       "</div>"
      ],
      "text/plain": [
       "   mean_fit_time  std_fit_time  mean_score_time  std_score_time param_alpha  \\\n",
       "0       0.002168      0.000461         0.001060        0.000547         0.1   \n",
       "1       0.002068      0.000141         0.001373        0.000371         0.1   \n",
       "2       0.001412      0.000510         0.001067        0.000508         0.1   \n",
       "\n",
       "  param_l1_ratio                           params  \\\n",
       "0            0.1  {'alpha': 0.1, 'l1_ratio': 0.1}   \n",
       "1            0.3  {'alpha': 0.1, 'l1_ratio': 0.3}   \n",
       "2            0.5  {'alpha': 0.1, 'l1_ratio': 0.5}   \n",
       "\n",
       "   split0_test_neg_mean_absolute_error  split1_test_neg_mean_absolute_error  \\\n",
       "0                            -1.560429                            -1.024838   \n",
       "1                            -1.558314                            -1.023941   \n",
       "2                            -1.555920                            -1.023903   \n",
       "\n",
       "   split2_test_neg_mean_absolute_error  ...  std_test_neg_mean_absolute_error  \\\n",
       "0                            -1.521026  ...                          0.241766   \n",
       "1                            -1.497815  ...                          0.233453   \n",
       "2                            -1.475724  ...                          0.223621   \n",
       "\n",
       "   rank_test_neg_mean_absolute_error  split0_test_neg_mean_squared_error  \\\n",
       "0                                  6                           -3.453021   \n",
       "1                                  5                           -3.386789   \n",
       "2                                  4                           -3.325440   \n",
       "\n",
       "   split1_test_neg_mean_squared_error  split2_test_neg_mean_squared_error  \\\n",
       "0                           -1.405190                           -5.789125   \n",
       "1                           -1.419619                           -5.691296   \n",
       "2                           -1.427522                           -5.595610   \n",
       "\n",
       "   split3_test_neg_mean_squared_error  split4_test_neg_mean_squared_error  \\\n",
       "0                           -2.187302                           -4.645576   \n",
       "1                           -2.170784                           -4.548123   \n",
       "2                           -2.163089                           -4.451679   \n",
       "\n",
       "   mean_test_neg_mean_squared_error  std_test_neg_mean_squared_error  \\\n",
       "0                         -3.496043                         1.591601   \n",
       "1                         -3.443322                         1.548670   \n",
       "2                         -3.392668                         1.506827   \n",
       "\n",
       "   rank_test_neg_mean_squared_error  \n",
       "0                                 6  \n",
       "1                                 5  \n",
       "2                                 4  \n",
       "\n",
       "[3 rows x 23 columns]"
      ]
     },
     "execution_count": 35,
     "metadata": {},
     "output_type": "execute_result"
    }
   ],
   "source": [
    "pd.DataFrame(grid_model.cv_results_).head(3)"
   ]
  },
  {
   "cell_type": "markdown",
   "id": "12f26a07",
   "metadata": {},
   "source": [
    "We can search for better parameters based on the results"
   ]
  },
  {
   "cell_type": "code",
   "execution_count": 36,
   "id": "e4dfdec3",
   "metadata": {},
   "outputs": [],
   "source": [
    "param_grid = {\n",
    "    'alpha': [0.2, 0.1, .09, .05, 0.01],\n",
    "    'l1_ratio':[0.1, 0.9, 0.95, 0.99, 1] \n",
    "}\n",
    "\n",
    "grid_model = GridSearchCV(estimator=model, param_grid=param_grid,\n",
    "                         scoring=['neg_mean_absolute_error', 'neg_mean_squared_error'],\n",
    "                         cv=5, verbose=1, refit='neg_mean_squared_error')\n"
   ]
  },
  {
   "cell_type": "code",
   "execution_count": 37,
   "id": "80142bf6",
   "metadata": {},
   "outputs": [
    {
     "name": "stdout",
     "output_type": "stream",
     "text": [
      "Fitting 5 folds for each of 25 candidates, totalling 125 fits\n"
     ]
    },
    {
     "data": {
      "text/plain": [
       "GridSearchCV(cv=5, estimator=ElasticNet(),\n",
       "             param_grid={'alpha': [0.2, 0.1, 0.09, 0.05, 0.01],\n",
       "                         'l1_ratio': [0.1, 0.9, 0.95, 0.99, 1]},\n",
       "             refit='neg_mean_squared_error',\n",
       "             scoring=['neg_mean_absolute_error', 'neg_mean_squared_error'],\n",
       "             verbose=1)"
      ]
     },
     "execution_count": 37,
     "metadata": {},
     "output_type": "execute_result"
    }
   ],
   "source": [
    "grid_model.fit(X_train, y_train)"
   ]
  },
  {
   "cell_type": "code",
   "execution_count": 38,
   "id": "aeee4032",
   "metadata": {},
   "outputs": [
    {
     "name": "stdout",
     "output_type": "stream",
     "text": [
      "ElasticNet(alpha=0.09, l1_ratio=1) \n",
      " {'alpha': 0.09, 'l1_ratio': 1} \n",
      " -3.292571495909358\n"
     ]
    }
   ],
   "source": [
    "print(grid_model.best_estimator_,'\\n',\n",
    "     grid_model.best_params_,'\\n',\n",
    "     grid_model.best_score_)"
   ]
  },
  {
   "cell_type": "code",
   "execution_count": 39,
   "id": "80771f76",
   "metadata": {},
   "outputs": [],
   "source": [
    "y_pred = grid_model.predict(X_test)"
   ]
  },
  {
   "cell_type": "code",
   "execution_count": 40,
   "id": "41a0ede5",
   "metadata": {},
   "outputs": [
    {
     "data": {
      "text/plain": [
       "2.3768486062285006"
      ]
     },
     "execution_count": 40,
     "metadata": {},
     "output_type": "execute_result"
    }
   ],
   "source": [
    "mean_squared_error(y_test, y_pred)"
   ]
  }
 ],
 "metadata": {
  "kernelspec": {
   "display_name": "Python 3 (ipykernel)",
   "language": "python",
   "name": "python3"
  },
  "language_info": {
   "codemirror_mode": {
    "name": "ipython",
    "version": 3
   },
   "file_extension": ".py",
   "mimetype": "text/x-python",
   "name": "python",
   "nbconvert_exporter": "python",
   "pygments_lexer": "ipython3",
   "version": "3.8.2"
  }
 },
 "nbformat": 4,
 "nbformat_minor": 5
}
