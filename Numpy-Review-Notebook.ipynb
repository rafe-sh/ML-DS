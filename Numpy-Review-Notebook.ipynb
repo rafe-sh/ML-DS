{
 "cells": [
  {
   "cell_type": "markdown",
   "id": "388e7274",
   "metadata": {},
   "source": [
    "# NumPy Review Notebook"
   ]
  },
  {
   "cell_type": "code",
   "execution_count": 1,
   "id": "a45f25ec",
   "metadata": {},
   "outputs": [],
   "source": [
    "import numpy as np"
   ]
  },
  {
   "cell_type": "code",
   "execution_count": 2,
   "id": "1d490522",
   "metadata": {},
   "outputs": [
    {
     "data": {
      "text/plain": [
       "array([1, 2, 3, 4, 5, 6, 7, 8, 9])"
      ]
     },
     "execution_count": 2,
     "metadata": {},
     "output_type": "execute_result"
    }
   ],
   "source": [
    "# making a numpy array\n",
    "\n",
    "np.array([1,2,3,4,5,6,7,8,9])"
   ]
  },
  {
   "cell_type": "code",
   "execution_count": 3,
   "id": "87c98ea8",
   "metadata": {},
   "outputs": [
    {
     "data": {
      "text/plain": [
       "array([[1, 2, 3],\n",
       "       [4, 5, 6],\n",
       "       [7, 8, 9]])"
      ]
     },
     "execution_count": 3,
     "metadata": {},
     "output_type": "execute_result"
    }
   ],
   "source": [
    "np.array([[1,2,3],[4,5,6],[7,8,9]])"
   ]
  },
  {
   "cell_type": "code",
   "execution_count": 4,
   "id": "4384b10f",
   "metadata": {},
   "outputs": [],
   "source": [
    "# Built-in methods"
   ]
  },
  {
   "cell_type": "code",
   "execution_count": 5,
   "id": "0a2bd8c2",
   "metadata": {},
   "outputs": [
    {
     "data": {
      "text/plain": [
       "array([0, 1, 2, 3, 4, 5, 6, 7, 8, 9])"
      ]
     },
     "execution_count": 5,
     "metadata": {},
     "output_type": "execute_result"
    }
   ],
   "source": [
    "np.arange(0,10)  # exclusivs end point"
   ]
  },
  {
   "cell_type": "code",
   "execution_count": 6,
   "id": "a8af5ad3",
   "metadata": {},
   "outputs": [
    {
     "data": {
      "text/plain": [
       "array([ 0,  5, 10, 15])"
      ]
     },
     "execution_count": 6,
     "metadata": {},
     "output_type": "execute_result"
    }
   ],
   "source": [
    "np.arange(0,20,5)"
   ]
  },
  {
   "cell_type": "code",
   "execution_count": 7,
   "id": "501eccc8",
   "metadata": {},
   "outputs": [
    {
     "data": {
      "text/plain": [
       "array([0., 0., 0.])"
      ]
     },
     "execution_count": 7,
     "metadata": {},
     "output_type": "execute_result"
    }
   ],
   "source": [
    "np.zeros(3)"
   ]
  },
  {
   "cell_type": "code",
   "execution_count": 8,
   "id": "8723be16",
   "metadata": {},
   "outputs": [
    {
     "data": {
      "text/plain": [
       "array([[1., 1., 1., 1., 1.],\n",
       "       [1., 1., 1., 1., 1.],\n",
       "       [1., 1., 1., 1., 1.]])"
      ]
     },
     "execution_count": 8,
     "metadata": {},
     "output_type": "execute_result"
    }
   ],
   "source": [
    "np.ones((3,5))"
   ]
  },
  {
   "cell_type": "code",
   "execution_count": 9,
   "id": "43f579de",
   "metadata": {},
   "outputs": [
    {
     "data": {
      "text/plain": [
       "array([ 0.,  2.,  4.,  6.,  8., 10.])"
      ]
     },
     "execution_count": 9,
     "metadata": {},
     "output_type": "execute_result"
    }
   ],
   "source": [
    "np.linspace(0,10,6)"
   ]
  },
  {
   "cell_type": "code",
   "execution_count": 10,
   "id": "10137a04",
   "metadata": {},
   "outputs": [
    {
     "data": {
      "text/plain": [
       "array([[1., 0., 0., 0., 0.],\n",
       "       [0., 1., 0., 0., 0.],\n",
       "       [0., 0., 1., 0., 0.],\n",
       "       [0., 0., 0., 1., 0.],\n",
       "       [0., 0., 0., 0., 1.]])"
      ]
     },
     "execution_count": 10,
     "metadata": {},
     "output_type": "execute_result"
    }
   ],
   "source": [
    "# Identity Matrix\n",
    "np.eye(5)"
   ]
  },
  {
   "cell_type": "markdown",
   "id": "9a5e077f",
   "metadata": {},
   "source": [
    "## Random"
   ]
  },
  {
   "cell_type": "code",
   "execution_count": 11,
   "id": "26d46278",
   "metadata": {},
   "outputs": [
    {
     "data": {
      "text/plain": [
       "array([[0.9892425 , 0.61229688, 0.58199132, 0.87914729],\n",
       "       [0.62622493, 0.70142937, 0.41589391, 0.54176535],\n",
       "       [0.1117093 , 0.46848802, 0.45015678, 0.50118584]])"
      ]
     },
     "execution_count": 11,
     "metadata": {},
     "output_type": "execute_result"
    }
   ],
   "source": [
    "# To Create a Random array with Uniform Dis. between [0, 1) use `RANDOM.RAND`\n",
    "\n",
    "np.random.rand(3,4)"
   ]
  },
  {
   "cell_type": "code",
   "execution_count": 12,
   "id": "c70ea18a",
   "metadata": {},
   "outputs": [
    {
     "data": {
      "text/plain": [
       "array([0.09490065, 0.36535571, 0.51398352, 0.666929  , 0.77607567])"
      ]
     },
     "execution_count": 12,
     "metadata": {},
     "output_type": "execute_result"
    }
   ],
   "source": [
    "np.random.rand(5)"
   ]
  },
  {
   "cell_type": "code",
   "execution_count": 13,
   "id": "154a3f18",
   "metadata": {
    "scrolled": true
   },
   "outputs": [
    {
     "data": {
      "text/plain": [
       "array([[ 1.22880995,  1.02046166,  0.58369261,  0.13218333],\n",
       "       [ 0.07222435,  0.10000577,  0.46699573,  1.71170457],\n",
       "       [ 0.81561901,  0.24086607,  1.16393277, -0.39482358]])"
      ]
     },
     "execution_count": 13,
     "metadata": {},
     "output_type": "execute_result"
    }
   ],
   "source": [
    "# To return Standard Normal Dis. with sigma=1, use `Random.RANDN`\n",
    "\n",
    "np.random.randn(3,4)"
   ]
  },
  {
   "cell_type": "code",
   "execution_count": 14,
   "id": "3ddac335",
   "metadata": {},
   "outputs": [
    {
     "data": {
      "text/plain": [
       "array([[50, 90],\n",
       "       [57, 49],\n",
       "       [97, 59],\n",
       "       [28, 41],\n",
       "       [78, 48]])"
      ]
     },
     "execution_count": 14,
     "metadata": {},
     "output_type": "execute_result"
    }
   ],
   "source": [
    "# Return random integers between two given numbers [low, high), use `Random.RANDINT`\n",
    "\n",
    "np.random.randint(0,100, (5,2))"
   ]
  },
  {
   "cell_type": "code",
   "execution_count": 15,
   "id": "e2c85385",
   "metadata": {},
   "outputs": [
    {
     "data": {
      "text/plain": [
       "array([ 1.62434536, -0.61175641, -0.52817175, -1.07296862,  0.86540763])"
      ]
     },
     "execution_count": 15,
     "metadata": {},
     "output_type": "execute_result"
    }
   ],
   "source": [
    "# use seed to generate the same random numbers\n",
    "np.random.seed(1)\n",
    "np.random.randn(5)"
   ]
  },
  {
   "cell_type": "code",
   "execution_count": 16,
   "id": "d47affc4",
   "metadata": {},
   "outputs": [
    {
     "data": {
      "text/plain": [
       "array([[ 1,  2,  3,  4],\n",
       "       [ 5,  6,  7,  8],\n",
       "       [ 9, 10, 11, 12],\n",
       "       [13, 14, 15, 16],\n",
       "       [17, 18, 19, 20]])"
      ]
     },
     "execution_count": 16,
     "metadata": {},
     "output_type": "execute_result"
    }
   ],
   "source": [
    "# Reshape\n",
    "arr = np.arange(1,21)\n",
    "arr.reshape((5,4))"
   ]
  },
  {
   "cell_type": "code",
   "execution_count": 17,
   "id": "dd29b769",
   "metadata": {},
   "outputs": [],
   "source": [
    "# max, argmax, min, argmin\n",
    "arr = np.random.randint(0,100, (5,5))"
   ]
  },
  {
   "cell_type": "code",
   "execution_count": 18,
   "id": "21c6007b",
   "metadata": {},
   "outputs": [
    {
     "data": {
      "text/plain": [
       "array([[18, 84, 11, 28, 29],\n",
       "       [14, 50, 68, 87, 87],\n",
       "       [94, 96, 86, 13,  9],\n",
       "       [ 7, 63, 61, 22, 57],\n",
       "       [ 1,  0, 60, 81,  8]])"
      ]
     },
     "execution_count": 18,
     "metadata": {},
     "output_type": "execute_result"
    }
   ],
   "source": [
    "arr"
   ]
  },
  {
   "cell_type": "code",
   "execution_count": 19,
   "id": "ae97bfc2",
   "metadata": {
    "scrolled": true
   },
   "outputs": [
    {
     "data": {
      "text/plain": [
       "96"
      ]
     },
     "execution_count": 19,
     "metadata": {},
     "output_type": "execute_result"
    }
   ],
   "source": [
    "arr.max()"
   ]
  },
  {
   "cell_type": "code",
   "execution_count": 20,
   "id": "e5526791",
   "metadata": {},
   "outputs": [
    {
     "data": {
      "text/plain": [
       "11"
      ]
     },
     "execution_count": 20,
     "metadata": {},
     "output_type": "execute_result"
    }
   ],
   "source": [
    "arr.argmax()"
   ]
  },
  {
   "cell_type": "code",
   "execution_count": 21,
   "id": "a8596f85",
   "metadata": {},
   "outputs": [
    {
     "data": {
      "text/plain": [
       "0"
      ]
     },
     "execution_count": 21,
     "metadata": {},
     "output_type": "execute_result"
    }
   ],
   "source": [
    "arr.min()"
   ]
  },
  {
   "cell_type": "code",
   "execution_count": 22,
   "id": "56b17cf8",
   "metadata": {},
   "outputs": [
    {
     "data": {
      "text/plain": [
       "(5, 5)"
      ]
     },
     "execution_count": 22,
     "metadata": {},
     "output_type": "execute_result"
    }
   ],
   "source": [
    "# Shape\n",
    "\n",
    "arr.shape"
   ]
  },
  {
   "cell_type": "code",
   "execution_count": 23,
   "id": "9f0e518d",
   "metadata": {},
   "outputs": [
    {
     "data": {
      "text/plain": [
       "dtype('int32')"
      ]
     },
     "execution_count": 23,
     "metadata": {},
     "output_type": "execute_result"
    }
   ],
   "source": [
    "# Data type == dtype\n",
    "\n",
    "arr.dtype"
   ]
  },
  {
   "cell_type": "code",
   "execution_count": 24,
   "id": "dd22b8e4",
   "metadata": {},
   "outputs": [
    {
     "data": {
      "text/plain": [
       "dtype('float64')"
      ]
     },
     "execution_count": 24,
     "metadata": {},
     "output_type": "execute_result"
    }
   ],
   "source": [
    "np.linspace(0,25).dtype"
   ]
  },
  {
   "cell_type": "markdown",
   "id": "04288a18",
   "metadata": {},
   "source": [
    "# Indexing"
   ]
  },
  {
   "cell_type": "markdown",
   "id": "2a8c1840",
   "metadata": {},
   "source": [
    "<img src= 'numpy_indexing.png' width=500/>"
   ]
  },
  {
   "cell_type": "code",
   "execution_count": 25,
   "id": "36452cb5",
   "metadata": {
    "scrolled": true
   },
   "outputs": [
    {
     "data": {
      "text/plain": [
       "array([[18, 84, 11, 28, 29],\n",
       "       [14, 50, 68, 87, 87],\n",
       "       [94, 96, 86, 13,  9],\n",
       "       [ 7, 63, 61, 22, 57],\n",
       "       [ 1,  0, 60, 81,  8]])"
      ]
     },
     "execution_count": 25,
     "metadata": {},
     "output_type": "execute_result"
    }
   ],
   "source": [
    "arr"
   ]
  },
  {
   "cell_type": "code",
   "execution_count": 26,
   "id": "2f4839c9",
   "metadata": {},
   "outputs": [
    {
     "data": {
      "text/plain": [
       "array([[18, 84],\n",
       "       [14, 50]])"
      ]
     },
     "execution_count": 26,
     "metadata": {},
     "output_type": "execute_result"
    }
   ],
   "source": [
    "arr[0:2,0:2]"
   ]
  },
  {
   "cell_type": "code",
   "execution_count": 27,
   "id": "02693271",
   "metadata": {},
   "outputs": [
    {
     "data": {
      "text/plain": [
       "87"
      ]
     },
     "execution_count": 27,
     "metadata": {},
     "output_type": "execute_result"
    }
   ],
   "source": [
    "arr[1,4]"
   ]
  },
  {
   "cell_type": "markdown",
   "id": "432cb50a",
   "metadata": {},
   "source": [
    "**Important Note on Slicing**   \n",
    "When we slice an array, every changes also occur on the original array"
   ]
  },
  {
   "cell_type": "code",
   "execution_count": 28,
   "id": "d8951e15",
   "metadata": {},
   "outputs": [
    {
     "data": {
      "text/plain": [
       "array([ 1,  0, 60, 81,  8])"
      ]
     },
     "execution_count": 28,
     "metadata": {},
     "output_type": "execute_result"
    }
   ],
   "source": [
    "s = arr[4]\n",
    "s"
   ]
  },
  {
   "cell_type": "code",
   "execution_count": 29,
   "id": "c96e905b",
   "metadata": {},
   "outputs": [],
   "source": [
    "s[:] = np.zeros(5)"
   ]
  },
  {
   "cell_type": "code",
   "execution_count": 30,
   "id": "4166db22",
   "metadata": {
    "scrolled": true
   },
   "outputs": [
    {
     "name": "stdout",
     "output_type": "stream",
     "text": [
      "slice of arr [0 0 0 0 0] \n",
      "\n",
      "array itself changes to :\n",
      "[[18 84 11 28 29]\n",
      " [14 50 68 87 87]\n",
      " [94 96 86 13  9]\n",
      " [ 7 63 61 22 57]\n",
      " [ 0  0  0  0  0]]\n"
     ]
    }
   ],
   "source": [
    "print(f\"slice of arr {s} \\n\")\n",
    "print(\"array itself changes to :\")\n",
    "print(arr)"
   ]
  },
  {
   "cell_type": "markdown",
   "id": "d2079837",
   "metadata": {},
   "source": [
    "## Conditional Selection\n",
    "This is a very fundamental concept that will directly translate to pandas later on"
   ]
  },
  {
   "cell_type": "code",
   "execution_count": 31,
   "id": "c3cdd84e",
   "metadata": {},
   "outputs": [
    {
     "data": {
      "text/plain": [
       "array([[18, 84, 11, 28, 29],\n",
       "       [14, 50, 68, 87, 87],\n",
       "       [94, 96, 86, 13,  9],\n",
       "       [ 7, 63, 61, 22, 57],\n",
       "       [ 0,  0,  0,  0,  0]])"
      ]
     },
     "execution_count": 31,
     "metadata": {},
     "output_type": "execute_result"
    }
   ],
   "source": [
    "arr"
   ]
  },
  {
   "cell_type": "code",
   "execution_count": 32,
   "id": "f3dfa74b",
   "metadata": {},
   "outputs": [
    {
     "data": {
      "text/plain": [
       "array([84, 50, 68, 87, 87, 94, 96, 86, 63, 61, 57])"
      ]
     },
     "execution_count": 32,
     "metadata": {},
     "output_type": "execute_result"
    }
   ],
   "source": [
    "arr[arr >= 50]"
   ]
  },
  {
   "cell_type": "markdown",
   "id": "2e7d8392",
   "metadata": {},
   "source": [
    "# NumPy Operations"
   ]
  },
  {
   "cell_type": "code",
   "execution_count": 33,
   "id": "0323741d",
   "metadata": {},
   "outputs": [
    {
     "data": {
      "text/plain": [
       "array([[ 36, 168,  22,  56,  58],\n",
       "       [ 28, 100, 136, 174, 174],\n",
       "       [188, 192, 172,  26,  18],\n",
       "       [ 14, 126, 122,  44, 114],\n",
       "       [  0,   0,   0,   0,   0]])"
      ]
     },
     "execution_count": 33,
     "metadata": {},
     "output_type": "execute_result"
    }
   ],
   "source": [
    "# SUM\n",
    "\n",
    "arr + arr"
   ]
  },
  {
   "cell_type": "code",
   "execution_count": 34,
   "id": "671fbfd9",
   "metadata": {},
   "outputs": [
    {
     "data": {
      "text/plain": [
       "array([[ 324, 7056,  121,  784,  841],\n",
       "       [ 196, 2500, 4624, 7569, 7569],\n",
       "       [8836, 9216, 7396,  169,   81],\n",
       "       [  49, 3969, 3721,  484, 3249],\n",
       "       [   0,    0,    0,    0,    0]])"
      ]
     },
     "execution_count": 34,
     "metadata": {},
     "output_type": "execute_result"
    }
   ],
   "source": [
    "# Multiplication\n",
    "\n",
    "arr * arr # or arr ** 2"
   ]
  },
  {
   "cell_type": "code",
   "execution_count": 35,
   "id": "3881f6fb",
   "metadata": {},
   "outputs": [
    {
     "name": "stderr",
     "output_type": "stream",
     "text": [
      "C:\\Users\\rafes\\AppData\\Local\\Temp/ipykernel_10460/2485474980.py:2: RuntimeWarning: invalid value encountered in true_divide\n",
      "  arr / arr\n"
     ]
    },
    {
     "data": {
      "text/plain": [
       "array([[ 1.,  1.,  1.,  1.,  1.],\n",
       "       [ 1.,  1.,  1.,  1.,  1.],\n",
       "       [ 1.,  1.,  1.,  1.,  1.],\n",
       "       [ 1.,  1.,  1.,  1.,  1.],\n",
       "       [nan, nan, nan, nan, nan]])"
      ]
     },
     "execution_count": 35,
     "metadata": {},
     "output_type": "execute_result"
    }
   ],
   "source": [
    "# It raise error because of dividing by zero, but it will take of that too with `nan`\n",
    "arr / arr"
   ]
  },
  {
   "cell_type": "code",
   "execution_count": 36,
   "id": "8650ff07",
   "metadata": {},
   "outputs": [
    {
     "name": "stderr",
     "output_type": "stream",
     "text": [
      "C:\\Users\\rafes\\AppData\\Local\\Temp/ipykernel_10460/1528351372.py:1: RuntimeWarning: divide by zero encountered in true_divide\n",
      "  1 / arr\n"
     ]
    },
    {
     "data": {
      "text/plain": [
       "array([[0.05555556, 0.01190476, 0.09090909, 0.03571429, 0.03448276],\n",
       "       [0.07142857, 0.02      , 0.01470588, 0.01149425, 0.01149425],\n",
       "       [0.0106383 , 0.01041667, 0.01162791, 0.07692308, 0.11111111],\n",
       "       [0.14285714, 0.01587302, 0.01639344, 0.04545455, 0.01754386],\n",
       "       [       inf,        inf,        inf,        inf,        inf]])"
      ]
     },
     "execution_count": 36,
     "metadata": {},
     "output_type": "execute_result"
    }
   ],
   "source": [
    "1 / arr"
   ]
  },
  {
   "cell_type": "markdown",
   "id": "d88ac9e0",
   "metadata": {},
   "source": [
    "## Universal Array Functions"
   ]
  },
  {
   "cell_type": "markdown",
   "id": "02edb4c6",
   "metadata": {},
   "source": [
    "exp, sin, sqrt, cos, log, ... these come with `np.ufunc(arr)`   \n",
    "mean, sum, std, var, ... these comes both ways `np.ufunc(arr)` or `arr.ufunc()`"
   ]
  },
  {
   "cell_type": "code",
   "execution_count": 37,
   "id": "e1860229",
   "metadata": {},
   "outputs": [
    {
     "data": {
      "text/plain": [
       "39.36"
      ]
     },
     "execution_count": 37,
     "metadata": {},
     "output_type": "execute_result"
    }
   ],
   "source": [
    "np.mean(arr)       # also arr.mean()"
   ]
  },
  {
   "cell_type": "code",
   "execution_count": 38,
   "id": "bb12ef08",
   "metadata": {},
   "outputs": [
    {
     "data": {
      "text/plain": [
       "984"
      ]
     },
     "execution_count": 38,
     "metadata": {},
     "output_type": "execute_result"
    }
   ],
   "source": [
    "np.sum(arr)        # also arr.sum()"
   ]
  },
  {
   "cell_type": "code",
   "execution_count": 39,
   "id": "510d005b",
   "metadata": {},
   "outputs": [
    {
     "data": {
      "text/plain": [
       "array([[6.56599691e+07, 3.02507732e+36, 5.98741417e+04, 1.44625706e+12,\n",
       "        3.93133430e+12],\n",
       "       [1.20260428e+06, 5.18470553e+21, 3.40427605e+29, 6.07603023e+37,\n",
       "        6.07603023e+37],\n",
       "       [6.66317622e+40, 4.92345829e+41, 2.23524660e+37, 4.42413392e+05,\n",
       "        8.10308393e+03],\n",
       "       [1.09663316e+03, 2.29378316e+27, 3.10429794e+26, 3.58491285e+09,\n",
       "        5.68572000e+24],\n",
       "       [1.00000000e+00, 1.00000000e+00, 1.00000000e+00, 1.00000000e+00,\n",
       "        1.00000000e+00]])"
      ]
     },
     "execution_count": 39,
     "metadata": {},
     "output_type": "execute_result"
    }
   ],
   "source": [
    "np.exp(arr)"
   ]
  },
  {
   "cell_type": "code",
   "execution_count": 40,
   "id": "9cfc4105",
   "metadata": {},
   "outputs": [
    {
     "data": {
      "text/plain": [
       "1200.9504"
      ]
     },
     "execution_count": 40,
     "metadata": {},
     "output_type": "execute_result"
    }
   ],
   "source": [
    "np.var(arr)       # also arr.var()"
   ]
  },
  {
   "cell_type": "code",
   "execution_count": 41,
   "id": "2f211755",
   "metadata": {},
   "outputs": [
    {
     "data": {
      "text/plain": [
       "array([170, 306, 298, 210,   0])"
      ]
     },
     "execution_count": 41,
     "metadata": {},
     "output_type": "execute_result"
    }
   ],
   "source": [
    "np.sum(arr, axis=1)     # axis=1 means horizontally, axis=0 means vertically"
   ]
  },
  {
   "cell_type": "code",
   "execution_count": 42,
   "id": "28c89937",
   "metadata": {},
   "outputs": [
    {
     "data": {
      "text/plain": [
       "array([133, 293, 226, 150, 182])"
      ]
     },
     "execution_count": 42,
     "metadata": {},
     "output_type": "execute_result"
    }
   ],
   "source": [
    "arr.sum(axis=0)"
   ]
  }
 ],
 "metadata": {
  "kernelspec": {
   "display_name": "Python 3 (ipykernel)",
   "language": "python",
   "name": "python3"
  },
  "language_info": {
   "codemirror_mode": {
    "name": "ipython",
    "version": 3
   },
   "file_extension": ".py",
   "mimetype": "text/x-python",
   "name": "python",
   "nbconvert_exporter": "python",
   "pygments_lexer": "ipython3",
   "version": "3.8.2"
  }
 },
 "nbformat": 4,
 "nbformat_minor": 5
}
